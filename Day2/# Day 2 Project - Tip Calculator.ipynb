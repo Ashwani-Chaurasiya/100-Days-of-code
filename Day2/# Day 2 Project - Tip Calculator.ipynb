{
 "cells": [
  {
   "cell_type": "code",
   "execution_count": 8,
   "id": "9242849b",
   "metadata": {},
   "outputs": [
    {
     "name": "stdout",
     "output_type": "stream",
     "text": [
      "Welcome to the tip Calculator\n",
      "\n",
      "What was the total bill? $124.54\n",
      "How many people to split the bill? 5\n",
      "What percentage tip would you like to give? 10, 12, or 15?12\n",
      "\n",
      "Each Person Should Pay : $27.9\n"
     ]
    }
   ],
   "source": [
    "print(\"Welcome to the tip Calculator\\n\")\n",
    "bill = float(input(\"What was the total bill? $\"))\n",
    "people = int(input(\"How many people to split the bill? \"))\n",
    "tip_percentage = int(input(\"What percentage tip would you like to give? 10, 12, or 15?\"))\n",
    "total_bill = bill + (bill * tip_percentage / 100)\n",
    "each_person_bill = total_bill / people\n",
    "print(f\"\\nEach Person Should Pay : ${round(each_person_bill, 2)}\")"
   ]
  }
 ],
 "metadata": {
  "kernelspec": {
   "display_name": "Python 3 (ipykernel)",
   "language": "python",
   "name": "python3"
  },
  "language_info": {
   "codemirror_mode": {
    "name": "ipython",
    "version": 3
   },
   "file_extension": ".py",
   "mimetype": "text/x-python",
   "name": "python",
   "nbconvert_exporter": "python",
   "pygments_lexer": "ipython3",
   "version": "3.11.5"
  }
 },
 "nbformat": 4,
 "nbformat_minor": 5
}
